{
  "nbformat": 4,
  "nbformat_minor": 0,
  "metadata": {
    "colab": {
      "name": "tutorialsPython.ipynb",
      "provenance": [],
      "authorship_tag": "ABX9TyMp0BMvGLTtlZzfQ4qiRPGY",
      "include_colab_link": true
    },
    "kernelspec": {
      "name": "python3",
      "display_name": "Python 3"
    },
    "language_info": {
      "name": "python"
    }
  },
  "cells": [
    {
      "cell_type": "markdown",
      "metadata": {
        "id": "view-in-github",
        "colab_type": "text"
      },
      "source": [
        "<a href=\"https://colab.research.google.com/github/rahmans1/Tutorials-UofMSAP/blob/feature-addPythonNotebook/tutorialsPython.ipynb\" target=\"_parent\"><img src=\"https://colab.research.google.com/assets/colab-badge.svg\" alt=\"Open In Colab\"/></a>"
      ]
    },
    {
      "cell_type": "code",
      "execution_count": null,
      "metadata": {
        "id": "aATXoeY9v3Lx"
      },
      "outputs": [],
      "source": [
        "import numpy as np"
      ]
    },
    {
      "cell_type": "code",
      "source": [
        "number_of_students = 2 \n",
        "number_of_chairs = 25 # number of chairs in classroom \n",
        "number_of_benches = 23 # number of benches in the classroom\n",
        "cost_per_chair = 88.25\n",
        "print(\"The number of students in the classroom is \"+str(number_of_students))\n",
        "print(\"The number of chairs in the classroom is \"+str(number_of_chairs))\n",
        "print(\"The number of benches in the classroom is \"+str(number_of_benches))\n",
        "print(\"The cost per chair in the classroom is \"+str(cost_per_chair))"
      ],
      "metadata": {
        "colab": {
          "base_uri": "https://localhost:8080/"
        },
        "id": "OlTNDI46v-sm",
        "outputId": "614523c8-a888-420c-a925-bd85f247fc1f"
      },
      "execution_count": null,
      "outputs": [
        {
          "output_type": "stream",
          "name": "stdout",
          "text": [
            "The number of students in the classroom is 2\n",
            "The number of chairs in the classroom is 25\n",
            "The number of benches in the classroom is 23\n",
            "The cost per chair in the classroom is 88.25\n"
          ]
        }
      ]
    }
  ]
}